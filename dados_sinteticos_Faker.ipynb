{
 "cells": [
  {
   "cell_type": "markdown",
   "id": "8e997c00",
   "metadata": {},
   "source": [
    "## Criando dados sintéticos com Faker\n",
    "Quando se precisa de uma certa quantidade de dados (para testar modelos, etc) em determinados formatos, é possível utilizar-se dados criados de maneira sintética. [`Faker`](https://github.com/joke2k/faker) é uma biblioteca de Python para este fim.\n",
    "\n",
    "`Faker` tem uma grande quantidade de opções e inclusive pode criar diversos dados localizados em português. Recomendo ler a [documentação](https://faker.readthedocs.io/en/master/).\n",
    "\n",
    "Aqui estou criando um *dataset* rápido, com os seguintes dados: \n",
    "\n",
    "- **Cliente** representado pelo **CPF**\n",
    "- **Loja** representado pelo **CNPJ**\n",
    "- **Gasto** representado por um valor de ponto flutuante com duas casas decimais\n",
    "\n",
    "*É possível criar valores direto em moeda, usando a função* `pricetag`, *como* **R$XXX,XX** *mas o dado é uma string e para minha necessidade eu precisava de valores float*"
   ]
  },
  {
   "cell_type": "code",
   "execution_count": null,
   "id": "fbbc4208",
   "metadata": {},
   "outputs": [],
   "source": [
    "import random\n",
    "import pandas as pd\n",
    "from faker import Faker"
   ]
  },
  {
   "cell_type": "markdown",
   "id": "81ba6920",
   "metadata": {},
   "source": [
    "Aqui inicializa-se o [gerador *faker*](https://faker.readthedocs.io/en/master/#basic-usage) e informa-se um [*seed*](https://faker.readthedocs.io/en/master/#seeding-the-generator) para que os valores gerados sejam o mesmo em todas as execuções."
   ]
  },
  {
   "cell_type": "code",
   "execution_count": 2,
   "id": "0fbcdbee",
   "metadata": {},
   "outputs": [],
   "source": [
    "fake = Faker(['pt-BR'])\n",
    "Faker.seed(69)"
   ]
  },
  {
   "cell_type": "markdown",
   "id": "1f03a3c2",
   "metadata": {},
   "source": [
    "### Necessidades:\n",
    "\n",
    "- Criar uma lista com 250 CPFs  \n",
    "- Criar uma lista com 100 CNPJs  \n",
    "- Criar mil registros, randômicos, das listas de CPF e CNPJ\n",
    "- Atribuir um valor monetário para cada um destes mil registros."
   ]
  },
  {
   "cell_type": "code",
   "execution_count": 3,
   "id": "4f1995d1",
   "metadata": {},
   "outputs": [],
   "source": [
    "# função para criar CPFs\n",
    "def create_CPF(n):\n",
    "    CPF = []\n",
    "    for _ in range(0, n):\n",
    "        CPF.append(fake.cpf())\n",
    "    return CPF"
   ]
  },
  {
   "cell_type": "code",
   "execution_count": 4,
   "id": "f79b1776",
   "metadata": {},
   "outputs": [],
   "source": [
    "# criando uma lista com 200 CPFs\n",
    "CPFs = create_CPF(200)"
   ]
  },
  {
   "cell_type": "code",
   "execution_count": 5,
   "id": "55aaaaae",
   "metadata": {},
   "outputs": [
    {
     "data": {
      "text/plain": [
       "['012.947.538-60',\n",
       " '769.842.301-87',\n",
       " '619.285.430-06',\n",
       " '831.094.672-40',\n",
       " '018.796.453-00',\n",
       " '271.596.308-40',\n",
       " '194.352.876-46',\n",
       " '734.918.526-09',\n",
       " '679.254.081-11',\n",
       " '860.735.194-00']"
      ]
     },
     "execution_count": 5,
     "metadata": {},
     "output_type": "execute_result"
    }
   ],
   "source": [
    "# Dez primeiros itens da lista de CPFs\n",
    "CPFs[:10]"
   ]
  },
  {
   "cell_type": "code",
   "execution_count": 6,
   "id": "93b056d7",
   "metadata": {},
   "outputs": [],
   "source": [
    "# Função para criar CNPJs\n",
    "def create_CNPJ(n):\n",
    "    CNPJ = []\n",
    "    for _ in range(0, n):\n",
    "        CNPJ.append(fake.cnpj())\n",
    "    return CNPJ"
   ]
  },
  {
   "cell_type": "code",
   "execution_count": 7,
   "id": "e2e8a0d5",
   "metadata": {},
   "outputs": [],
   "source": [
    "# criando uma lista com 100 CNPJs\n",
    "CNPJs = create_CNPJ(100)"
   ]
  },
  {
   "cell_type": "code",
   "execution_count": 8,
   "id": "35da8839",
   "metadata": {},
   "outputs": [
    {
     "data": {
      "text/plain": [
       "['43.508.297/0001-03',\n",
       " '53.670.982/0001-95',\n",
       " '39.406.187/0001-63',\n",
       " '72.834.910/0001-80',\n",
       " '79.160.284/0001-33',\n",
       " '42.059.183/0001-60',\n",
       " '05.897.624/0001-77',\n",
       " '41.035.296/0001-63',\n",
       " '03.254.817/0001-84',\n",
       " '52.486.931/0001-45']"
      ]
     },
     "execution_count": 8,
     "metadata": {},
     "output_type": "execute_result"
    }
   ],
   "source": [
    "# Dez primeiros itens da lista de CNPJs\n",
    "CNPJs[:10]"
   ]
  },
  {
   "cell_type": "code",
   "execution_count": 9,
   "id": "629d5518",
   "metadata": {},
   "outputs": [],
   "source": [
    "# Função para criar valores numéricos\n",
    "def create_valor(n):\n",
    "    valor = []\n",
    "    for _ in range(0, n):\n",
    "        valor.append(fake.pyfloat(right_digits=2, positive=True, min_value=5.0, max_value=10000.0))\n",
    "    return valor"
   ]
  },
  {
   "cell_type": "code",
   "execution_count": 10,
   "id": "e168b20a",
   "metadata": {},
   "outputs": [],
   "source": [
    "# Criando mil valores numéricos\n",
    "valores = create_valor(1000)"
   ]
  },
  {
   "cell_type": "code",
   "execution_count": 11,
   "id": "93a1fe8d",
   "metadata": {},
   "outputs": [
    {
     "data": {
      "text/plain": [
       "[4308.82,\n",
       " 9535.3,\n",
       " 8017.95,\n",
       " 9354.9,\n",
       " 438.96,\n",
       " 4517.74,\n",
       " 4953.91,\n",
       " 2422.62,\n",
       " 9857.25,\n",
       " 7383.14]"
      ]
     },
     "execution_count": 11,
     "metadata": {},
     "output_type": "execute_result"
    }
   ],
   "source": [
    "# Dez primeiros itens da lista de valores\n",
    "valores[:10]"
   ]
  },
  {
   "cell_type": "markdown",
   "id": "5ece1b60",
   "metadata": {},
   "source": [
    "Agora crio uma lista de transações. Cada transação tem:\n",
    "- um CPF aleatório da lista de 250\n",
    "- um CNPJ aleatório da lista de 100\n",
    "- um valor aleatório da lista de 1000"
   ]
  },
  {
   "cell_type": "code",
   "execution_count": 12,
   "id": "04086394",
   "metadata": {},
   "outputs": [],
   "source": [
    "transacoes = []\n",
    "for _ in range(0, 1000):\n",
    "    transacao = []\n",
    "    cliente = random.choice(CPFs)\n",
    "    loja = random.choice(CNPJs)\n",
    "    gasto = random.choice(valores)\n",
    "    transacao = [cliente, loja, gasto]\n",
    "    transacoes.append(transacao)"
   ]
  },
  {
   "cell_type": "code",
   "execution_count": 13,
   "id": "a855c171",
   "metadata": {},
   "outputs": [
    {
     "data": {
      "text/plain": [
       "[['435.960.871-39', '75.208.346/0001-89', 2808.94],\n",
       " ['853.716.942-00', '68.472.395/0001-69', 7977.66],\n",
       " ['683.125.049-15', '09.218.563/0001-25', 4551.1],\n",
       " ['035.469.781-10', '60.258.917/0001-12', 2871.6],\n",
       " ['729.063.841-78', '52.486.931/0001-45', 5826.28],\n",
       " ['871.509.624-67', '32.694.758/0001-63', 6052.26],\n",
       " ['369.182.457-91', '68.043.529/0001-26', 2779.72],\n",
       " ['923.581.670-02', '79.821.503/0001-88', 5324.42],\n",
       " ['408.639.251-89', '39.406.187/0001-63', 7460.78],\n",
       " ['894.125.076-58', '64.578.391/0001-09', 115.66]]"
      ]
     },
     "execution_count": 13,
     "metadata": {},
     "output_type": "execute_result"
    }
   ],
   "source": [
    "# listando as dez primeiras transações geradas\n",
    "transacoes[:10]"
   ]
  },
  {
   "cell_type": "markdown",
   "id": "f42a2317",
   "metadata": {},
   "source": [
    "Transformando a lista de transações em um *dataframe* do Pandas"
   ]
  },
  {
   "cell_type": "code",
   "execution_count": 14,
   "id": "8279677f",
   "metadata": {},
   "outputs": [
    {
     "data": {
      "text/html": [
       "<div>\n",
       "<style scoped>\n",
       "    .dataframe tbody tr th:only-of-type {\n",
       "        vertical-align: middle;\n",
       "    }\n",
       "\n",
       "    .dataframe tbody tr th {\n",
       "        vertical-align: top;\n",
       "    }\n",
       "\n",
       "    .dataframe thead th {\n",
       "        text-align: right;\n",
       "    }\n",
       "</style>\n",
       "<table border=\"1\" class=\"dataframe\">\n",
       "  <thead>\n",
       "    <tr style=\"text-align: right;\">\n",
       "      <th></th>\n",
       "      <th>Cliente</th>\n",
       "      <th>Loja</th>\n",
       "      <th>Gasto</th>\n",
       "    </tr>\n",
       "  </thead>\n",
       "  <tbody>\n",
       "    <tr>\n",
       "      <th>0</th>\n",
       "      <td>435.960.871-39</td>\n",
       "      <td>75.208.346/0001-89</td>\n",
       "      <td>2808.94</td>\n",
       "    </tr>\n",
       "    <tr>\n",
       "      <th>1</th>\n",
       "      <td>853.716.942-00</td>\n",
       "      <td>68.472.395/0001-69</td>\n",
       "      <td>7977.66</td>\n",
       "    </tr>\n",
       "    <tr>\n",
       "      <th>2</th>\n",
       "      <td>683.125.049-15</td>\n",
       "      <td>09.218.563/0001-25</td>\n",
       "      <td>4551.10</td>\n",
       "    </tr>\n",
       "    <tr>\n",
       "      <th>3</th>\n",
       "      <td>035.469.781-10</td>\n",
       "      <td>60.258.917/0001-12</td>\n",
       "      <td>2871.60</td>\n",
       "    </tr>\n",
       "    <tr>\n",
       "      <th>4</th>\n",
       "      <td>729.063.841-78</td>\n",
       "      <td>52.486.931/0001-45</td>\n",
       "      <td>5826.28</td>\n",
       "    </tr>\n",
       "    <tr>\n",
       "      <th>5</th>\n",
       "      <td>871.509.624-67</td>\n",
       "      <td>32.694.758/0001-63</td>\n",
       "      <td>6052.26</td>\n",
       "    </tr>\n",
       "    <tr>\n",
       "      <th>6</th>\n",
       "      <td>369.182.457-91</td>\n",
       "      <td>68.043.529/0001-26</td>\n",
       "      <td>2779.72</td>\n",
       "    </tr>\n",
       "    <tr>\n",
       "      <th>7</th>\n",
       "      <td>923.581.670-02</td>\n",
       "      <td>79.821.503/0001-88</td>\n",
       "      <td>5324.42</td>\n",
       "    </tr>\n",
       "    <tr>\n",
       "      <th>8</th>\n",
       "      <td>408.639.251-89</td>\n",
       "      <td>39.406.187/0001-63</td>\n",
       "      <td>7460.78</td>\n",
       "    </tr>\n",
       "    <tr>\n",
       "      <th>9</th>\n",
       "      <td>894.125.076-58</td>\n",
       "      <td>64.578.391/0001-09</td>\n",
       "      <td>115.66</td>\n",
       "    </tr>\n",
       "  </tbody>\n",
       "</table>\n",
       "</div>"
      ],
      "text/plain": [
       "          Cliente                Loja    Gasto\n",
       "0  435.960.871-39  75.208.346/0001-89  2808.94\n",
       "1  853.716.942-00  68.472.395/0001-69  7977.66\n",
       "2  683.125.049-15  09.218.563/0001-25  4551.10\n",
       "3  035.469.781-10  60.258.917/0001-12  2871.60\n",
       "4  729.063.841-78  52.486.931/0001-45  5826.28\n",
       "5  871.509.624-67  32.694.758/0001-63  6052.26\n",
       "6  369.182.457-91  68.043.529/0001-26  2779.72\n",
       "7  923.581.670-02  79.821.503/0001-88  5324.42\n",
       "8  408.639.251-89  39.406.187/0001-63  7460.78\n",
       "9  894.125.076-58  64.578.391/0001-09   115.66"
      ]
     },
     "execution_count": 14,
     "metadata": {},
     "output_type": "execute_result"
    }
   ],
   "source": [
    "compras = pd.DataFrame(transacoes, columns =['Cliente', 'Loja', 'Gasto'])\n",
    "compras.head(10)"
   ]
  },
  {
   "cell_type": "code",
   "execution_count": 15,
   "id": "2d34daa2",
   "metadata": {},
   "outputs": [
    {
     "name": "stdout",
     "output_type": "stream",
     "text": [
      "<class 'pandas.core.frame.DataFrame'>\n",
      "RangeIndex: 1000 entries, 0 to 999\n",
      "Data columns (total 3 columns):\n",
      " #   Column   Non-Null Count  Dtype  \n",
      "---  ------   --------------  -----  \n",
      " 0   Cliente  1000 non-null   object \n",
      " 1   Loja     1000 non-null   object \n",
      " 2   Gasto    1000 non-null   float64\n",
      "dtypes: float64(1), object(2)\n",
      "memory usage: 23.6+ KB\n"
     ]
    }
   ],
   "source": [
    "compras.info()"
   ]
  }
 ],
 "metadata": {
  "kernelspec": {
   "display_name": "Python 3 (ipykernel)",
   "language": "python",
   "name": "python3"
  },
  "language_info": {
   "codemirror_mode": {
    "name": "ipython",
    "version": 3
   },
   "file_extension": ".py",
   "mimetype": "text/x-python",
   "name": "python",
   "nbconvert_exporter": "python",
   "pygments_lexer": "ipython3",
   "version": "3.9.7"
  }
 },
 "nbformat": 4,
 "nbformat_minor": 5
}
